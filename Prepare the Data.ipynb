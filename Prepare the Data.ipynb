{
 "cells": [
  {
   "cell_type": "code",
   "execution_count": 154,
   "metadata": {},
   "outputs": [],
   "source": [
    "import pandas as pd\n",
    "\n",
    "file_name_dict = {6: 'bubble_flow.csv', 4: 'plug_flow.csv', 1: 'stratified_flow.csv',\n",
    "             3: 'wave_flow.csv', 5: 'slug_flow.csv', 2: 'annular_flow.csv'}\n"
   ]
  },
  {
   "cell_type": "code",
   "execution_count": 191,
   "metadata": {},
   "outputs": [
    {
     "data": {
      "text/html": [
       "<div>\n",
       "<style scoped>\n",
       "    .dataframe tbody tr th:only-of-type {\n",
       "        vertical-align: middle;\n",
       "    }\n",
       "\n",
       "    .dataframe tbody tr th {\n",
       "        vertical-align: top;\n",
       "    }\n",
       "\n",
       "    .dataframe thead th {\n",
       "        text-align: right;\n",
       "    }\n",
       "</style>\n",
       "<table border=\"1\" class=\"dataframe\">\n",
       "  <thead>\n",
       "    <tr style=\"text-align: right;\">\n",
       "      <th></th>\n",
       "      <th>mean</th>\n",
       "      <th>std</th>\n",
       "      <th>min</th>\n",
       "      <th>50%</th>\n",
       "      <th>max</th>\n",
       "      <th>label</th>\n",
       "    </tr>\n",
       "  </thead>\n",
       "  <tbody>\n",
       "  </tbody>\n",
       "</table>\n",
       "</div>"
      ],
      "text/plain": [
       "Empty DataFrame\n",
       "Columns: [mean, std, min, 50%, max, label]\n",
       "Index: []"
      ]
     },
     "execution_count": 191,
     "metadata": {},
     "output_type": "execute_result"
    }
   ],
   "source": [
    "# Create feature dataset\n",
    "\n",
    "df_festure_target_dataset = pd.DataFrame(data={}, columns=('mean', 'std','min', '50%', 'max', 'label'))\n",
    "df_festure_target_dataset"
   ]
  },
  {
   "cell_type": "code",
   "execution_count": 212,
   "metadata": {},
   "outputs": [
    {
     "name": "stdout",
     "output_type": "stream",
     "text": [
      "[0.17944833999999998, 0.020952984524518773, 0.12885, 0.17818, 0.23764000000000002, 1]\n",
      "0\n",
      "[0.18020821333333334, 0.020450371832313356, 0.12885, 0.17842999999999998, 0.23764000000000002, 1]\n",
      "1\n",
      "[0.17470504666666667, 0.01783678104843852, 0.12866, 0.173815, 0.23256, 1]\n",
      "2\n",
      "[0.17719097333333336, 0.017914784421063822, 0.12792, 0.175815, 0.23256, 1]\n",
      "3\n",
      "[0.17445080666666668, 0.01868973114438662, 0.12655, 0.17284499999999997, 0.22355, 1]\n",
      "4\n",
      "[0.17545332, 0.017806025381057033, 0.12655, 0.174375, 0.22526999999999997, 1]\n",
      "5\n",
      "[0.17522634, 0.01635402907489125, 0.12655, 0.17451, 0.22526999999999997, 1]\n",
      "6\n",
      "[0.18396128666666667, 0.018289230907539054, 0.12980999999999998, 0.18329, 0.23346999999999998, 1]\n",
      "7\n",
      "[0.18349135333333333, 0.018422108638615473, 0.12980999999999998, 0.18330000000000002, 0.23346999999999998, 1]\n",
      "8\n",
      "[0.18584379333333337, 0.018800557769888853, 0.12792, 0.18672, 0.23346999999999998, 1]\n",
      "9\n",
      "[0.18195612000000003, 0.018381947847912878, 0.12792, 0.18293, 0.22546999999999998, 1]\n",
      "10\n",
      "[0.18549359333333337, 0.01840454828440489, 0.12792, 0.186035, 0.22885, 1]\n",
      "11\n",
      "[0.18630940000000001, 0.017349362517390658, 0.14282999999999998, 0.18552, 0.22885, 1]\n",
      "12\n",
      "[0.18434478, 0.01616353094592969, 0.14485, 0.18232500000000001, 0.22885, 1]\n",
      "13\n",
      "[0.18311080666666665, 0.01525747586143911, 0.14590999999999998, 0.181195, 0.23142, 1]\n",
      "14\n",
      "[0.18208185333333332, 0.014495165982367816, 0.14590999999999998, 0.18114, 0.23142, 1]\n",
      "15\n",
      "[0.18197491999999996, 0.017690209167611968, 0.1307, 0.1815, 0.27828, 1]\n",
      "16\n",
      "[0.18317078, 0.020355956909778077, 0.1307, 0.18243, 0.30323, 1]\n",
      "17\n",
      "[0.20278713999999998, 0.03582907942777991, 0.13255999999999998, 0.19736, 0.31782, 2]\n",
      "18\n",
      "[0.20400704, 0.03607294746479137, 0.13255999999999998, 0.20022, 0.31782, 2]\n",
      "19\n",
      "[0.20173882666666668, 0.033016973302237275, 0.13255999999999998, 0.19963, 0.3174, 2]\n",
      "20\n",
      "[0.20409914666666668, 0.03110766912500436, 0.13671, 0.2007, 0.31743000000000005, 2]\n",
      "21\n",
      "[0.20877359333333334, 0.034322494580728224, 0.13671, 0.2018, 0.31785, 2]\n",
      "22\n",
      "[0.2056451066666667, 0.03369591570718207, 0.14955, 0.19707999999999998, 0.31785, 2]\n",
      "23\n",
      "[0.20471402000000005, 0.03722874773180065, 0.13844, 0.196485, 0.3179, 2]\n",
      "24\n",
      "[0.19793538666666666, 0.032884437191323224, 0.13844, 0.19345, 0.3179, 2]\n",
      "25\n",
      "[0.20049729333333335, 0.03498876012041293, 0.13002, 0.19655499999999998, 0.3179, 2]\n",
      "26\n",
      "[0.19936704666666666, 0.03206863673725383, 0.13002, 0.19644499999999998, 0.31751999999999997, 2]\n",
      "27\n",
      "[0.20278556000000003, 0.03144349472084658, 0.13002, 0.19944, 0.31751999999999997, 2]\n",
      "28\n",
      "[0.20159578666666667, 0.03156950191374386, 0.14059000000000002, 0.198785, 0.31751999999999997, 2]\n",
      "29\n",
      "[0.2040746, 0.030573392767844577, 0.14059000000000002, 0.201035, 0.31774, 2]\n",
      "30\n",
      "[0.19971107333333332, 0.030669693302011494, 0.13718, 0.196625, 0.31774, 2]\n",
      "31\n",
      "[0.19989196, 0.03091871069442801, 0.13718, 0.197185, 0.31774, 2]\n",
      "32\n",
      "[0.20226200000000003, 0.033945231890680536, 0.13718, 0.19860999999999998, 0.3173, 2]\n",
      "33\n",
      "[0.20038930666666666, 0.03702457609853406, 0.13452999999999998, 0.19446, 0.3173, 2]\n",
      "34\n",
      "[0.2042346, 0.041455926198610694, 0.128, 0.19810500000000003, 0.31781, 2]\n",
      "35\n",
      "[0.33992301999999996, 0.17462224085994382, 0.23504, 0.26557, 0.81722, 3]\n",
      "36\n",
      "[0.39984336, 0.167947474674902, 0.23504, 0.39539, 0.81722, 3]\n",
      "37\n",
      "[0.44276275333333337, 0.144144793537685, 0.23504, 0.413645, 0.81722, 3]\n",
      "38\n",
      "[0.4071917666666667, 0.03458462019812257, 0.31651, 0.40526, 0.4973, 3]\n",
      "39\n",
      "[0.39921511333333337, 0.024016496888646294, 0.31651, 0.40565999999999997, 0.44526000000000004, 3]\n",
      "40\n",
      "[0.39814049333333335, 0.02090707731713319, 0.31651, 0.402565, 0.43233999999999995, 3]\n",
      "41\n",
      "[0.3964915266666667, 0.017675347697101492, 0.34942, 0.396155, 0.43233999999999995, 3]\n",
      "42\n",
      "[0.4620465466666667, 0.15333850467452187, 0.3464, 0.39029, 0.8195899999999999, 3]\n",
      "43\n",
      "[0.5013632933333333, 0.15505665572647095, 0.3464, 0.44860999999999995, 0.8195899999999999, 3]\n",
      "44\n",
      "[0.48962486000000005, 0.16960182928842205, 0.22096999999999997, 0.45167, 0.8195899999999999, 3]\n",
      "45\n",
      "[0.3723238, 0.12657404082341256, 0.21928000000000003, 0.364735, 0.81213, 3]\n",
      "46\n",
      "[0.29433342, 0.060245549291571984, 0.21928000000000003, 0.274695, 0.45629, 3]\n",
      "47\n",
      "[0.26174722666666667, 0.027565709316625758, 0.21928000000000003, 0.255515, 0.41849, 3]\n",
      "48\n",
      "[0.2591563666666667, 0.016565030402035764, 0.23156999999999997, 0.25563, 0.30589, 3]\n",
      "49\n",
      "[0.25564494666666665, 0.015087495325841653, 0.23156999999999997, 0.25290500000000005, 0.31484, 3]\n",
      "50\n",
      "[0.35454401999999996, 0.18502222900845663, 0.23870999999999998, 0.263295, 0.80787, 3]\n",
      "51\n",
      "[0.45960444000000006, 0.19267764673668744, 0.24908000000000002, 0.477495, 0.80981, 3]\n",
      "52\n",
      "[0.51159874, 0.1550927588784104, 0.26985, 0.495055, 0.80981, 3]\n",
      "53\n",
      "[0.7624654399999999, 0.24979163640419333, 0.44236000000000003, 0.720235, 1.0362799999999999, 4]\n",
      "54\n",
      "[0.6317439266666667, 0.2432394249121683, 0.44231000000000004, 0.491, 1.0362799999999999, 4]\n",
      "55\n",
      "[0.7963927666666665, 0.263898281410028, 0.44231000000000004, 1.02522, 1.0362799999999999, 4]\n",
      "56\n",
      "[0.67934252, 0.23989935324598416, 0.44231000000000004, 0.56528, 1.03434, 4]\n",
      "57\n",
      "[0.7075896866666667, 0.25017021743050866, 0.44236000000000003, 0.58405, 1.03434, 4]\n",
      "58\n",
      "[0.72225024, 0.25362017274017506, 0.44236000000000003, 0.5925050000000001, 1.0359399999999999, 4]\n",
      "59\n",
      "[0.7793848666666666, 0.25455962527771353, 0.44236000000000003, 0.781715, 1.0359399999999999, 4]\n",
      "60\n",
      "[0.7908806866666667, 0.24883011307257333, 0.44236000000000003, 1.004745, 1.0359399999999999, 4]\n",
      "61\n",
      "[0.75884878, 0.23362272482305188, 0.44236000000000003, 0.716805, 1.03518, 4]\n",
      "62\n",
      "[0.6847367266666666, 0.23760584380641664, 0.44233, 0.5952299999999999, 1.03518, 4]\n",
      "63\n",
      "[0.7663850733333334, 0.23505109331286467, 0.44233, 0.747115, 1.03518, 4]\n",
      "64\n",
      "[0.61831844, 0.2105148455201105, 0.44233, 0.51522, 1.03393, 4]\n",
      "65\n",
      "[0.6460980066666667, 0.24934093437392693, 0.44236000000000003, 0.499395, 1.0341799999999999, 4]\n",
      "66\n",
      "[0.6349265466666667, 0.23548279626057103, 0.44236000000000003, 0.5065500000000001, 1.03502, 4]\n",
      "67\n",
      "[0.6251417333333333, 0.24148065766892052, 0.44236000000000003, 0.47792500000000004, 1.03502, 4]\n",
      "68\n",
      "[0.5783730866666666, 0.20694026954585784, 0.44236000000000003, 0.477515, 1.03502, 4]\n",
      "69\n",
      "[0.6536646666666667, 0.26884853327127706, 0.44236000000000003, 0.477515, 1.03443, 4]\n",
      "70\n",
      "[0.7245964933333333, 0.25712482203482595, 0.44236000000000003, 0.58934, 1.03443, 4]\n",
      "71\n",
      "[0.8244648600000001, 0.18144603086167901, 0.55208, 0.8025800000000001, 1.03535, 5]\n",
      "72\n",
      "[0.8337516399999999, 0.17549567291337398, 0.55208, 0.808065, 1.03535, 5]\n",
      "73\n",
      "[0.8213721333333333, 0.17230877580086923, 0.55208, 0.78934, 1.03367, 5]\n",
      "74\n",
      "[0.8367641533333334, 0.17869808113318847, 0.54595, 0.811805, 1.03376, 5]\n",
      "75\n",
      "[0.8162499333333334, 0.18742802144933354, 0.54478, 0.785275, 1.03376, 5]\n",
      "76\n",
      "[0.8305620866666666, 0.19175326650391758, 0.54478, 0.8676599999999999, 1.03376, 5]\n",
      "77\n",
      "[0.79007746, 0.18873821360268042, 0.5410699999999999, 0.693615, 1.03359, 5]\n",
      "78\n",
      "[0.8264017333333334, 0.18695774651807728, 0.5410699999999999, 0.8418549999999999, 1.03267, 5]\n",
      "79\n",
      "[0.8173796666666667, 0.19017500993109063, 0.5410699999999999, 0.8185, 1.03259, 5]\n",
      "80\n",
      "[0.8544135266666666, 0.18262099664726467, 0.5283899999999999, 0.932465, 1.03259, 5]\n",
      "81\n",
      "[0.8390817933333334, 0.19078490165030296, 0.5283899999999999, 0.9150400000000001, 1.03259, 5]\n",
      "82\n",
      "[0.8220095466666668, 0.18310493819061158, 0.5283899999999999, 0.76367, 1.03359, 5]\n",
      "83\n",
      "[0.8206792333333333, 0.19506100924710168, 0.52131, 0.7889700000000001, 1.03359, 5]\n",
      "84\n",
      "[0.8216615666666667, 0.19104557041570613, 0.52131, 0.803525, 1.03359, 5]\n",
      "85\n",
      "[0.7873793666666667, 0.20397380037239538, 0.46946000000000004, 0.7347049999999999, 1.03142, 5]\n",
      "86\n",
      "[0.79730332, 0.19437052643411531, 0.46946000000000004, 0.751275, 1.03502, 5]\n",
      "87\n",
      "[0.76400034, 0.2008944651320643, 0.46946000000000004, 0.69773, 1.03544, 5]\n",
      "88\n",
      "[0.84235808, 0.19595655670579368, 0.50827, 0.913465, 1.0377100000000001, 5]\n",
      "89\n",
      "[1.03547208, 0.006782678037066406, 0.96929, 1.03644, 1.0448600000000001, 6]\n",
      "90\n",
      "[1.0345293533333333, 0.006888860179899698, 0.96929, 1.03577, 1.04349, 6]\n",
      "91\n",
      "[1.0346498133333335, 0.005087674451001014, 0.9936, 1.0356, 1.0434, 6]\n",
      "92\n",
      "[1.0355302933333332, 0.004897489007611486, 0.9936, 1.0362799999999999, 1.04631, 6]\n",
      "93\n",
      "[1.0355791333333333, 0.006286400852051248, 0.9925299999999999, 1.0368700000000002, 1.04631, 6]\n",
      "94\n",
      "[1.0367538133333334, 0.0058652186647341325, 0.9925299999999999, 1.03779, 1.04631, 6]\n",
      "95\n",
      "[1.0375811533333335, 0.005904860895167902, 0.9925299999999999, 1.03847, 1.04821, 6]\n",
      "96\n",
      "[1.0391962133333332, 0.004217463383688202, 0.9985200000000001, 1.03949, 1.04821, 6]\n",
      "97\n",
      "[1.03917844, 0.005529639111690475, 0.96778, 1.0397399999999999, 1.04821, 6]\n",
      "98\n",
      "[1.03740672, 0.007291828066127447, 0.96778, 1.03855, 1.04735, 6]\n",
      "99\n",
      "[1.0354126933333334, 0.008306057424509437, 0.96778, 1.0368700000000002, 1.0466600000000001, 6]\n",
      "100\n",
      "[1.0344555466666667, 0.008257494336033702, 0.9617399999999999, 1.03619, 1.04255, 6]\n",
      "101\n",
      "[1.03447472, 0.007464838243051888, 0.9617399999999999, 1.0359399999999999, 1.04255, 6]\n",
      "102\n",
      "[1.0345494466666667, 0.0071217304959768826, 0.9617399999999999, 1.0359399999999999, 1.0420399999999999, 6]\n"
     ]
    },
    {
     "name": "stdout",
     "output_type": "stream",
     "text": [
      "103\n",
      "[1.0349343533333335, 0.005629705513725361, 0.9907100000000001, 1.0358999999999998, 1.04477, 6]\n",
      "104\n",
      "[1.0359694933333334, 0.005710454115108189, 0.9907100000000001, 1.03644, 1.04769, 6]\n",
      "105\n",
      "[1.0384383533333332, 0.004198722766556812, 1.00115, 1.0383, 1.04787, 6]\n",
      "106\n",
      "[1.0399636866666666, 0.00418851763696326, 1.00115, 1.0407600000000001, 1.04787, 6]\n",
      "107\n"
     ]
    }
   ],
   "source": [
    "# Create featue & target dataset\n",
    "\n",
    "for i in range(1, 7):\n",
    "    df_flow_i = pd.read_csv(file_name_dict[i], index_col=0)\n",
    "#     print(df_flow_i.head())\n",
    "    flow_i_cat_dict = {}\n",
    "    for j in range(18):\n",
    "#         flow_i_cat_dict['df_flow_{}_cat'.format(j)] = df_flow_i[100*j:100*(j+50)]\n",
    "        flow_i_cat_dict['df_flow_{}_cat'.format(j)] = df_flow_i[500*j:500*(j+3)]\n",
    "#         print('df_flow_{}_cat'.format(j))\n",
    "\n",
    "\n",
    "#     print(flow_i_cat_dict['df_flow_1_cat'])\n",
    "    \n",
    "    for k in range(18):\n",
    "#     df_flow_data_row_i = [d['df_{}'.format(i)].describe()['full']['mean'], d['df_{}'.format(i)].describe()['full']['mean'], d['df_{}'.format(i)].describe()['full']['mean'], d['df_{}'.format(i)].describe()['full']['mean']]\n",
    "        df_feature_target_data_row_15i_k = list(flow_i_cat_dict['df_flow_{}_cat'.format(k)].describe().iloc[[1, 2, 3, 5, 7], 2].values)\n",
    "#     print(df_feature_target_data_row_k)\n",
    "        df_feature_target_data_row_15i_k.append(i)\n",
    "        print(df_feature_target_data_row_15i_k)\n",
    "#         df_festure_target_dataset.loc[50*(i-1) + k] = df_feature_target_data_row_50i_k\n",
    "        df_festure_target_dataset.loc[18*(i-1) + k] = df_feature_target_data_row_15i_k\n",
    "        print(18*(i-1) + k)\n",
    "#         if i == 1:\n",
    "#             print(df_festure_target_dataset)"
   ]
  },
  {
   "cell_type": "code",
   "execution_count": 213,
   "metadata": {},
   "outputs": [
    {
     "data": {
      "text/html": [
       "<div>\n",
       "<style scoped>\n",
       "    .dataframe tbody tr th:only-of-type {\n",
       "        vertical-align: middle;\n",
       "    }\n",
       "\n",
       "    .dataframe tbody tr th {\n",
       "        vertical-align: top;\n",
       "    }\n",
       "\n",
       "    .dataframe thead th {\n",
       "        text-align: right;\n",
       "    }\n",
       "</style>\n",
       "<table border=\"1\" class=\"dataframe\">\n",
       "  <thead>\n",
       "    <tr style=\"text-align: right;\">\n",
       "      <th></th>\n",
       "      <th>mean</th>\n",
       "      <th>std</th>\n",
       "      <th>min</th>\n",
       "      <th>50%</th>\n",
       "      <th>max</th>\n",
       "      <th>label</th>\n",
       "    </tr>\n",
       "  </thead>\n",
       "  <tbody>\n",
       "    <tr>\n",
       "      <th>0</th>\n",
       "      <td>0.179448</td>\n",
       "      <td>0.020953</td>\n",
       "      <td>0.12885</td>\n",
       "      <td>0.178180</td>\n",
       "      <td>0.23764</td>\n",
       "      <td>1.0</td>\n",
       "    </tr>\n",
       "    <tr>\n",
       "      <th>1</th>\n",
       "      <td>0.180208</td>\n",
       "      <td>0.020450</td>\n",
       "      <td>0.12885</td>\n",
       "      <td>0.178430</td>\n",
       "      <td>0.23764</td>\n",
       "      <td>1.0</td>\n",
       "    </tr>\n",
       "    <tr>\n",
       "      <th>2</th>\n",
       "      <td>0.174705</td>\n",
       "      <td>0.017837</td>\n",
       "      <td>0.12866</td>\n",
       "      <td>0.173815</td>\n",
       "      <td>0.23256</td>\n",
       "      <td>1.0</td>\n",
       "    </tr>\n",
       "    <tr>\n",
       "      <th>3</th>\n",
       "      <td>0.177191</td>\n",
       "      <td>0.017915</td>\n",
       "      <td>0.12792</td>\n",
       "      <td>0.175815</td>\n",
       "      <td>0.23256</td>\n",
       "      <td>1.0</td>\n",
       "    </tr>\n",
       "    <tr>\n",
       "      <th>4</th>\n",
       "      <td>0.174451</td>\n",
       "      <td>0.018690</td>\n",
       "      <td>0.12655</td>\n",
       "      <td>0.172845</td>\n",
       "      <td>0.22355</td>\n",
       "      <td>1.0</td>\n",
       "    </tr>\n",
       "    <tr>\n",
       "      <th>...</th>\n",
       "      <td>...</td>\n",
       "      <td>...</td>\n",
       "      <td>...</td>\n",
       "      <td>...</td>\n",
       "      <td>...</td>\n",
       "      <td>...</td>\n",
       "    </tr>\n",
       "    <tr>\n",
       "      <th>103</th>\n",
       "      <td>1.034549</td>\n",
       "      <td>0.007122</td>\n",
       "      <td>0.96174</td>\n",
       "      <td>1.035940</td>\n",
       "      <td>1.04204</td>\n",
       "      <td>6.0</td>\n",
       "    </tr>\n",
       "    <tr>\n",
       "      <th>104</th>\n",
       "      <td>1.034934</td>\n",
       "      <td>0.005630</td>\n",
       "      <td>0.99071</td>\n",
       "      <td>1.035900</td>\n",
       "      <td>1.04477</td>\n",
       "      <td>6.0</td>\n",
       "    </tr>\n",
       "    <tr>\n",
       "      <th>105</th>\n",
       "      <td>1.035969</td>\n",
       "      <td>0.005710</td>\n",
       "      <td>0.99071</td>\n",
       "      <td>1.036440</td>\n",
       "      <td>1.04769</td>\n",
       "      <td>6.0</td>\n",
       "    </tr>\n",
       "    <tr>\n",
       "      <th>106</th>\n",
       "      <td>1.038438</td>\n",
       "      <td>0.004199</td>\n",
       "      <td>1.00115</td>\n",
       "      <td>1.038300</td>\n",
       "      <td>1.04787</td>\n",
       "      <td>6.0</td>\n",
       "    </tr>\n",
       "    <tr>\n",
       "      <th>107</th>\n",
       "      <td>1.039964</td>\n",
       "      <td>0.004189</td>\n",
       "      <td>1.00115</td>\n",
       "      <td>1.040760</td>\n",
       "      <td>1.04787</td>\n",
       "      <td>6.0</td>\n",
       "    </tr>\n",
       "  </tbody>\n",
       "</table>\n",
       "<p>108 rows × 6 columns</p>\n",
       "</div>"
      ],
      "text/plain": [
       "         mean       std      min       50%      max  label\n",
       "0    0.179448  0.020953  0.12885  0.178180  0.23764    1.0\n",
       "1    0.180208  0.020450  0.12885  0.178430  0.23764    1.0\n",
       "2    0.174705  0.017837  0.12866  0.173815  0.23256    1.0\n",
       "3    0.177191  0.017915  0.12792  0.175815  0.23256    1.0\n",
       "4    0.174451  0.018690  0.12655  0.172845  0.22355    1.0\n",
       "..        ...       ...      ...       ...      ...    ...\n",
       "103  1.034549  0.007122  0.96174  1.035940  1.04204    6.0\n",
       "104  1.034934  0.005630  0.99071  1.035900  1.04477    6.0\n",
       "105  1.035969  0.005710  0.99071  1.036440  1.04769    6.0\n",
       "106  1.038438  0.004199  1.00115  1.038300  1.04787    6.0\n",
       "107  1.039964  0.004189  1.00115  1.040760  1.04787    6.0\n",
       "\n",
       "[108 rows x 6 columns]"
      ]
     },
     "execution_count": 213,
     "metadata": {},
     "output_type": "execute_result"
    }
   ],
   "source": [
    "df_festure_target_dataset"
   ]
  },
  {
   "cell_type": "code",
   "execution_count": 214,
   "metadata": {},
   "outputs": [],
   "source": [
    "df_festure_target_dataset.to_csv('df_featured_flow_data.csv')"
   ]
  },
  {
   "cell_type": "code",
   "execution_count": null,
   "metadata": {},
   "outputs": [],
   "source": []
  },
  {
   "cell_type": "code",
   "execution_count": 215,
   "metadata": {},
   "outputs": [],
   "source": [
    "from sklearn.model_selection import train_test_split\n",
    "train_set, test_set = train_test_split(df_festure_target_dataset, test_size=0.2, random_state=42)"
   ]
  },
  {
   "cell_type": "code",
   "execution_count": 292,
   "metadata": {},
   "outputs": [
    {
     "data": {
      "text/html": [
       "<div>\n",
       "<style scoped>\n",
       "    .dataframe tbody tr th:only-of-type {\n",
       "        vertical-align: middle;\n",
       "    }\n",
       "\n",
       "    .dataframe tbody tr th {\n",
       "        vertical-align: top;\n",
       "    }\n",
       "\n",
       "    .dataframe thead th {\n",
       "        text-align: right;\n",
       "    }\n",
       "</style>\n",
       "<table border=\"1\" class=\"dataframe\">\n",
       "  <thead>\n",
       "    <tr style=\"text-align: right;\">\n",
       "      <th></th>\n",
       "      <th>mean</th>\n",
       "      <th>std</th>\n",
       "      <th>min</th>\n",
       "      <th>50%</th>\n",
       "      <th>max</th>\n",
       "      <th>label</th>\n",
       "    </tr>\n",
       "  </thead>\n",
       "  <tbody>\n",
       "    <tr>\n",
       "      <th>64</th>\n",
       "      <td>0.766385</td>\n",
       "      <td>0.235051</td>\n",
       "      <td>0.44233</td>\n",
       "      <td>0.747115</td>\n",
       "      <td>1.03518</td>\n",
       "      <td>4.0</td>\n",
       "    </tr>\n",
       "    <tr>\n",
       "      <th>26</th>\n",
       "      <td>0.200497</td>\n",
       "      <td>0.034989</td>\n",
       "      <td>0.13002</td>\n",
       "      <td>0.196555</td>\n",
       "      <td>0.31790</td>\n",
       "      <td>2.0</td>\n",
       "    </tr>\n",
       "    <tr>\n",
       "      <th>22</th>\n",
       "      <td>0.208774</td>\n",
       "      <td>0.034322</td>\n",
       "      <td>0.13671</td>\n",
       "      <td>0.201800</td>\n",
       "      <td>0.31785</td>\n",
       "      <td>2.0</td>\n",
       "    </tr>\n",
       "    <tr>\n",
       "      <th>31</th>\n",
       "      <td>0.199711</td>\n",
       "      <td>0.030670</td>\n",
       "      <td>0.13718</td>\n",
       "      <td>0.196625</td>\n",
       "      <td>0.31774</td>\n",
       "      <td>2.0</td>\n",
       "    </tr>\n",
       "    <tr>\n",
       "      <th>47</th>\n",
       "      <td>0.294333</td>\n",
       "      <td>0.060246</td>\n",
       "      <td>0.21928</td>\n",
       "      <td>0.274695</td>\n",
       "      <td>0.45629</td>\n",
       "      <td>3.0</td>\n",
       "    </tr>\n",
       "    <tr>\n",
       "      <th>...</th>\n",
       "      <td>...</td>\n",
       "      <td>...</td>\n",
       "      <td>...</td>\n",
       "      <td>...</td>\n",
       "      <td>...</td>\n",
       "      <td>...</td>\n",
       "    </tr>\n",
       "    <tr>\n",
       "      <th>71</th>\n",
       "      <td>0.724596</td>\n",
       "      <td>0.257125</td>\n",
       "      <td>0.44236</td>\n",
       "      <td>0.589340</td>\n",
       "      <td>1.03443</td>\n",
       "      <td>4.0</td>\n",
       "    </tr>\n",
       "    <tr>\n",
       "      <th>14</th>\n",
       "      <td>0.183111</td>\n",
       "      <td>0.015257</td>\n",
       "      <td>0.14591</td>\n",
       "      <td>0.181195</td>\n",
       "      <td>0.23142</td>\n",
       "      <td>1.0</td>\n",
       "    </tr>\n",
       "    <tr>\n",
       "      <th>92</th>\n",
       "      <td>1.034650</td>\n",
       "      <td>0.005088</td>\n",
       "      <td>0.99360</td>\n",
       "      <td>1.035600</td>\n",
       "      <td>1.04340</td>\n",
       "      <td>6.0</td>\n",
       "    </tr>\n",
       "    <tr>\n",
       "      <th>51</th>\n",
       "      <td>0.354544</td>\n",
       "      <td>0.185022</td>\n",
       "      <td>0.23871</td>\n",
       "      <td>0.263295</td>\n",
       "      <td>0.80787</td>\n",
       "      <td>3.0</td>\n",
       "    </tr>\n",
       "    <tr>\n",
       "      <th>102</th>\n",
       "      <td>1.034475</td>\n",
       "      <td>0.007465</td>\n",
       "      <td>0.96174</td>\n",
       "      <td>1.035940</td>\n",
       "      <td>1.04255</td>\n",
       "      <td>6.0</td>\n",
       "    </tr>\n",
       "  </tbody>\n",
       "</table>\n",
       "<p>86 rows × 6 columns</p>\n",
       "</div>"
      ],
      "text/plain": [
       "         mean       std      min       50%      max  label\n",
       "64   0.766385  0.235051  0.44233  0.747115  1.03518    4.0\n",
       "26   0.200497  0.034989  0.13002  0.196555  0.31790    2.0\n",
       "22   0.208774  0.034322  0.13671  0.201800  0.31785    2.0\n",
       "31   0.199711  0.030670  0.13718  0.196625  0.31774    2.0\n",
       "47   0.294333  0.060246  0.21928  0.274695  0.45629    3.0\n",
       "..        ...       ...      ...       ...      ...    ...\n",
       "71   0.724596  0.257125  0.44236  0.589340  1.03443    4.0\n",
       "14   0.183111  0.015257  0.14591  0.181195  0.23142    1.0\n",
       "92   1.034650  0.005088  0.99360  1.035600  1.04340    6.0\n",
       "51   0.354544  0.185022  0.23871  0.263295  0.80787    3.0\n",
       "102  1.034475  0.007465  0.96174  1.035940  1.04255    6.0\n",
       "\n",
       "[86 rows x 6 columns]"
      ]
     },
     "execution_count": 292,
     "metadata": {},
     "output_type": "execute_result"
    }
   ],
   "source": [
    "train_set"
   ]
  },
  {
   "cell_type": "code",
   "execution_count": 217,
   "metadata": {},
   "outputs": [
    {
     "data": {
      "text/html": [
       "<div>\n",
       "<style scoped>\n",
       "    .dataframe tbody tr th:only-of-type {\n",
       "        vertical-align: middle;\n",
       "    }\n",
       "\n",
       "    .dataframe tbody tr th {\n",
       "        vertical-align: top;\n",
       "    }\n",
       "\n",
       "    .dataframe thead th {\n",
       "        text-align: right;\n",
       "    }\n",
       "</style>\n",
       "<table border=\"1\" class=\"dataframe\">\n",
       "  <thead>\n",
       "    <tr style=\"text-align: right;\">\n",
       "      <th></th>\n",
       "      <th>mean</th>\n",
       "      <th>std</th>\n",
       "      <th>min</th>\n",
       "      <th>50%</th>\n",
       "      <th>max</th>\n",
       "      <th>label</th>\n",
       "    </tr>\n",
       "  </thead>\n",
       "  <tbody>\n",
       "    <tr>\n",
       "      <th>77</th>\n",
       "      <td>0.830562</td>\n",
       "      <td>0.191753</td>\n",
       "      <td>0.54478</td>\n",
       "      <td>0.867660</td>\n",
       "      <td>1.03376</td>\n",
       "      <td>5.0</td>\n",
       "    </tr>\n",
       "    <tr>\n",
       "      <th>10</th>\n",
       "      <td>0.181956</td>\n",
       "      <td>0.018382</td>\n",
       "      <td>0.12792</td>\n",
       "      <td>0.182930</td>\n",
       "      <td>0.22547</td>\n",
       "      <td>1.0</td>\n",
       "    </tr>\n",
       "    <tr>\n",
       "      <th>4</th>\n",
       "      <td>0.174451</td>\n",
       "      <td>0.018690</td>\n",
       "      <td>0.12655</td>\n",
       "      <td>0.172845</td>\n",
       "      <td>0.22355</td>\n",
       "      <td>1.0</td>\n",
       "    </tr>\n",
       "    <tr>\n",
       "      <th>83</th>\n",
       "      <td>0.822010</td>\n",
       "      <td>0.183105</td>\n",
       "      <td>0.52839</td>\n",
       "      <td>0.763670</td>\n",
       "      <td>1.03359</td>\n",
       "      <td>5.0</td>\n",
       "    </tr>\n",
       "    <tr>\n",
       "      <th>62</th>\n",
       "      <td>0.758849</td>\n",
       "      <td>0.233623</td>\n",
       "      <td>0.44236</td>\n",
       "      <td>0.716805</td>\n",
       "      <td>1.03518</td>\n",
       "      <td>4.0</td>\n",
       "    </tr>\n",
       "  </tbody>\n",
       "</table>\n",
       "</div>"
      ],
      "text/plain": [
       "        mean       std      min       50%      max  label\n",
       "77  0.830562  0.191753  0.54478  0.867660  1.03376    5.0\n",
       "10  0.181956  0.018382  0.12792  0.182930  0.22547    1.0\n",
       "4   0.174451  0.018690  0.12655  0.172845  0.22355    1.0\n",
       "83  0.822010  0.183105  0.52839  0.763670  1.03359    5.0\n",
       "62  0.758849  0.233623  0.44236  0.716805  1.03518    4.0"
      ]
     },
     "execution_count": 217,
     "metadata": {},
     "output_type": "execute_result"
    }
   ],
   "source": [
    "test_set.head()"
   ]
  },
  {
   "cell_type": "code",
   "execution_count": null,
   "metadata": {},
   "outputs": [],
   "source": []
  },
  {
   "cell_type": "code",
   "execution_count": null,
   "metadata": {},
   "outputs": [],
   "source": []
  },
  {
   "cell_type": "markdown",
   "metadata": {},
   "source": [
    "# Discover and Visualize the Data to Gain Insights"
   ]
  },
  {
   "cell_type": "code",
   "execution_count": 218,
   "metadata": {},
   "outputs": [],
   "source": [
    "df_festure_target_dataset_cat = train_set"
   ]
  },
  {
   "cell_type": "code",
   "execution_count": 219,
   "metadata": {},
   "outputs": [
    {
     "name": "stderr",
     "output_type": "stream",
     "text": [
      "/home/username/ml-test/env/lib/python3.6/site-packages/pandas/plotting/_matplotlib/tools.py:298: MatplotlibDeprecationWarning: \n",
      "The rowNum attribute was deprecated in Matplotlib 3.2 and will be removed two minor releases later. Use ax.get_subplotspec().rowspan.start instead.\n",
      "  layout[ax.rowNum, ax.colNum] = ax.get_visible()\n",
      "/home/username/ml-test/env/lib/python3.6/site-packages/pandas/plotting/_matplotlib/tools.py:298: MatplotlibDeprecationWarning: \n",
      "The colNum attribute was deprecated in Matplotlib 3.2 and will be removed two minor releases later. Use ax.get_subplotspec().colspan.start instead.\n",
      "  layout[ax.rowNum, ax.colNum] = ax.get_visible()\n",
      "/home/username/ml-test/env/lib/python3.6/site-packages/pandas/plotting/_matplotlib/tools.py:304: MatplotlibDeprecationWarning: \n",
      "The rowNum attribute was deprecated in Matplotlib 3.2 and will be removed two minor releases later. Use ax.get_subplotspec().rowspan.start instead.\n",
      "  if not layout[ax.rowNum + 1, ax.colNum]:\n",
      "/home/username/ml-test/env/lib/python3.6/site-packages/pandas/plotting/_matplotlib/tools.py:304: MatplotlibDeprecationWarning: \n",
      "The colNum attribute was deprecated in Matplotlib 3.2 and will be removed two minor releases later. Use ax.get_subplotspec().colspan.start instead.\n",
      "  if not layout[ax.rowNum + 1, ax.colNum]:\n"
     ]
    },
    {
     "data": {
      "image/png": "[encoded data removed]",
      "text/plain": [
       "<Figure size 1440x1080 with 6 Axes>"
      ]
     },
     "metadata": {
      "needs_background": "light"
     },
     "output_type": "display_data"
    }
   ],
   "source": [
    "%matplotlib inline  \n",
    "# only in a jupyter notebook\n",
    "import matplotlib.pyplot as plt\n",
    "df_festure_target_dataset_cat.hist(figsize=(20, 15))\n",
    "plt.show()"
   ]
  },
  {
   "cell_type": "code",
   "execution_count": null,
   "metadata": {},
   "outputs": [],
   "source": []
  },
  {
   "cell_type": "code",
   "execution_count": 220,
   "metadata": {},
   "outputs": [
    {
     "data": {
      "text/plain": [
       "label    1.000000\n",
       "mean     0.973449\n",
       "50%      0.957701\n",
       "min      0.933861\n",
       "max      0.906143\n",
       "std      0.227794\n",
       "Name: label, dtype: float64"
      ]
     },
     "execution_count": 220,
     "metadata": {},
     "output_type": "execute_result"
    }
   ],
   "source": [
    "corr_matrix = df_festure_target_dataset_cat.corr()\n",
    "corr_matrix['label'].sort_values(ascending=False)"
   ]
  },
  {
   "cell_type": "code",
   "execution_count": 249,
   "metadata": {},
   "outputs": [
    {
     "data": {
      "text/plain": [
       "<matplotlib.legend.Legend at 0x7ff0ad50be80>"
      ]
     },
     "execution_count": 249,
     "metadata": {},
     "output_type": "execute_result"
    },
    {
     "data": {
      "image/png": "[encoded data removed]",
      "text/plain": [
       "<Figure size 432x288 with 1 Axes>"
      ]
     },
     "metadata": {
      "needs_background": "light"
     },
     "output_type": "display_data"
    }
   ],
   "source": [
    "import numpy as np\n",
    "index = np.arange(5)\n",
    "values1 = [0.973449,0.957701,0.933861,0.906143,0.227794]\n",
    "plt.bar(index,values1, color='green', label='correlation coefficient')\n",
    "plt.xticks(index,['mean','50%','min','max','std'])\n",
    "# plt.legend('correlation coefficient')\n",
    "plt.legend(loc=4)"
   ]
  },
  {
   "cell_type": "code",
   "execution_count": 221,
   "metadata": {},
   "outputs": [
    {
     "data": {
      "text/plain": [
       "array([[<matplotlib.axes._subplots.AxesSubplot object at 0x7ff0ae0d6d68>,\n",
       "        <matplotlib.axes._subplots.AxesSubplot object at 0x7ff0ae06a898>,\n",
       "        <matplotlib.axes._subplots.AxesSubplot object at 0x7ff0ae012c18>,\n",
       "        <matplotlib.axes._subplots.AxesSubplot object at 0x7ff0adfc4f60>,\n",
       "        <matplotlib.axes._subplots.AxesSubplot object at 0x7ff0adf82320>,\n",
       "        <matplotlib.axes._subplots.AxesSubplot object at 0x7ff0adf356a0>],\n",
       "       [<matplotlib.axes._subplots.AxesSubplot object at 0x7ff0adf67a20>,\n",
       "        <matplotlib.axes._subplots.AxesSubplot object at 0x7ff0adf19d68>,\n",
       "        <matplotlib.axes._subplots.AxesSubplot object at 0x7ff0adf19dd8>,\n",
       "        <matplotlib.axes._subplots.AxesSubplot object at 0x7ff0ade8a4e0>,\n",
       "        <matplotlib.axes._subplots.AxesSubplot object at 0x7ff0ade3b860>,\n",
       "        <matplotlib.axes._subplots.AxesSubplot object at 0x7ff0ade6ebe0>],\n",
       "       [<matplotlib.axes._subplots.AxesSubplot object at 0x7ff0ade21f60>,\n",
       "        <matplotlib.axes._subplots.AxesSubplot object at 0x7ff0adddf320>,\n",
       "        <matplotlib.axes._subplots.AxesSubplot object at 0x7ff0add8f6a0>,\n",
       "        <matplotlib.axes._subplots.AxesSubplot object at 0x7ff0add44a20>,\n",
       "        <matplotlib.axes._subplots.AxesSubplot object at 0x7ff0adcf5da0>,\n",
       "        <matplotlib.axes._subplots.AxesSubplot object at 0x7ff0adcb3160>],\n",
       "       [<matplotlib.axes._subplots.AxesSubplot object at 0x7ff0adce74e0>,\n",
       "        <matplotlib.axes._subplots.AxesSubplot object at 0x7ff0adc97860>,\n",
       "        <matplotlib.axes._subplots.AxesSubplot object at 0x7ff0adc4abe0>,\n",
       "        <matplotlib.axes._subplots.AxesSubplot object at 0x7ff0adbfcf60>,\n",
       "        <matplotlib.axes._subplots.AxesSubplot object at 0x7ff0adbbc320>,\n",
       "        <matplotlib.axes._subplots.AxesSubplot object at 0x7ff0adbeb6a0>],\n",
       "       [<matplotlib.axes._subplots.AxesSubplot object at 0x7ff0adb9fa20>,\n",
       "        <matplotlib.axes._subplots.AxesSubplot object at 0x7ff0adb51da0>,\n",
       "        <matplotlib.axes._subplots.AxesSubplot object at 0x7ff0adb10160>,\n",
       "        <matplotlib.axes._subplots.AxesSubplot object at 0x7ff0adac24e0>,\n",
       "        <matplotlib.axes._subplots.AxesSubplot object at 0x7ff0ada75860>,\n",
       "        <matplotlib.axes._subplots.AxesSubplot object at 0x7ff0adaa7be0>],\n",
       "       [<matplotlib.axes._subplots.AxesSubplot object at 0x7ff0ada5af60>,\n",
       "        <matplotlib.axes._subplots.AxesSubplot object at 0x7ff0ada17320>,\n",
       "        <matplotlib.axes._subplots.AxesSubplot object at 0x7ff0ad9c96a0>,\n",
       "        <matplotlib.axes._subplots.AxesSubplot object at 0x7ff0ad97ca20>,\n",
       "        <matplotlib.axes._subplots.AxesSubplot object at 0x7ff0ad9afda0>,\n",
       "        <matplotlib.axes._subplots.AxesSubplot object at 0x7ff0ad96e160>]],\n",
       "      dtype=object)"
      ]
     },
     "execution_count": 221,
     "metadata": {},
     "output_type": "execute_result"
    },
    {
     "data": {
      "image/png": "[encoded data removed]",
      "text/plain": [
       "<Figure size 864x576 with 36 Axes>"
      ]
     },
     "metadata": {
      "needs_background": "light"
     },
     "output_type": "display_data"
    }
   ],
   "source": [
    "from pandas.plotting import scatter_matrix\n",
    "attributes = ['label', 'mean', 'std', 'min', '50%', 'max']\n",
    "scatter_matrix(df_festure_target_dataset_cat[attributes], figsize=(12, 8), )"
   ]
  },
  {
   "cell_type": "code",
   "execution_count": 257,
   "metadata": {
    "scrolled": true
   },
   "outputs": [
    {
     "data": {
      "text/plain": [
       "[<matplotlib.lines.Line2D at 0x7ff0ad26f898>]"
      ]
     },
     "execution_count": 257,
     "metadata": {},
     "output_type": "execute_result"
    },
    {
     "data": {
      "image/png": "[encoded data removed]",
      "text/plain": [
       "<Figure size 432x288 with 1 Axes>"
      ]
     },
     "metadata": {
      "needs_background": "light"
     },
     "output_type": "display_data"
    }
   ],
   "source": [
    "df_festure_target_dataset_cat.plot(kind='scatter', x='mean', y='label', alpha=0.4, s=200)\n",
    "plt.plot([0.2, 1], [1, 6.1], 'r-')"
   ]
  },
  {
   "cell_type": "code",
   "execution_count": 224,
   "metadata": {},
   "outputs": [
    {
     "name": "stdout",
     "output_type": "stream",
     "text": [
      "        mean       std      min       50%      max\n",
      "64  0.766385  0.235051  0.44233  0.747115  1.03518\n",
      "26  0.200497  0.034989  0.13002  0.196555  0.31790\n",
      "22  0.208774  0.034322  0.13671  0.201800  0.31785\n",
      "31  0.199711  0.030670  0.13718  0.196625  0.31774\n",
      "47  0.294333  0.060246  0.21928  0.274695  0.45629\n",
      "64    4.0\n",
      "26    2.0\n",
      "22    2.0\n",
      "31    2.0\n",
      "47    3.0\n",
      "Name: label, dtype: float64\n"
     ]
    }
   ],
   "source": [
    "df_festure_dataset_cat = df_festure_target_dataset_cat.drop('label', axis=1)\n",
    "df_target_dataset_cat = df_festure_target_dataset_cat['label']\n",
    "print(df_festure_dataset_cat.head())\n",
    "print(df_target_dataset_cat.head())"
   ]
  },
  {
   "cell_type": "code",
   "execution_count": 225,
   "metadata": {},
   "outputs": [
    {
     "data": {
      "text/plain": [
       "array([[ 0.6536458 ,  1.50274889,  0.07862119,  0.65585581,  0.91958379],\n",
       "       [-1.07605229, -0.62440424, -0.95082408, -1.02270715, -1.12094288],\n",
       "       [-1.05075487, -0.63148828, -0.9287723 , -1.00671604, -1.12108512],\n",
       "       [-1.07845546, -0.67032651, -0.92722308, -1.02249373, -1.12139805],\n",
       "       [-0.78923188, -0.35586264, -0.65660268, -0.7844717 , -0.72724937],\n",
       "       [ 1.47595823, -0.90810679,  1.8106247 ,  1.53926908,  0.95224223],\n",
       "       [-1.13234111, -0.84230139, -0.898447  , -1.06970484, -1.36696222],\n",
       "       [-0.15642235,  0.65221188, -0.23758605, -0.25423471,  0.30627079],\n",
       "       [ 0.6463566 ,  1.13958018,  0.16804789,  0.50528942,  0.92032344],\n",
       "       [ 0.88586563,  1.08707811,  0.29597453,  1.16302841,  0.92678116],\n",
       "       [-1.12084232, -0.79652452, -0.95774616, -1.05269238, -1.36113035],\n",
       "       [-1.07065827, -0.6354995 , -0.92722308, -1.01644181, -1.12264977],\n",
       "       [ 0.24210036,  1.58981093,  0.07855527, -0.12499487,  0.92271308],\n",
       "       [ 1.47331963, -0.92069909,  1.79071548,  1.53643367,  0.9390992 ],\n",
       "       [-1.06905795, -0.6620991 , -0.95082408, -1.01391128, -1.12202391],\n",
       "       [-0.46864947, -0.7410663 , -0.33611034, -0.38518189, -0.75862764],\n",
       "       [-1.15260195, -0.80709884, -0.96226199, -1.09033016, -1.38445781],\n",
       "       [-0.12513659,  0.65259575, -0.48991238, -0.11263187,  0.27844853],\n",
       "       [ 1.48986884, -0.95188634,  1.92061986,  1.55112902,  0.95568445],\n",
       "       [-0.44426796, -0.62870124, -0.33611034, -0.38640142, -0.61058363],\n",
       "       [-1.0646288 , -0.55564241, -0.95748246, -1.01798147, -1.12119892],\n",
       "       [-1.13266796, -0.80833025, -0.94858264, -1.06860726, -1.23365433],\n",
       "       [ 0.72606417,  1.01032942,  0.40409084,  0.49274349,  0.91506054],\n",
       "       [-1.07638237, -0.60275852, -0.93595808, -1.02909445, -1.12264977],\n",
       "       [ 0.28597518,  1.65468494,  0.07872008, -0.09939996,  0.91673898],\n",
       "       [-1.12659641, -0.80196118, -0.95151628, -1.06314986, -1.36113035],\n",
       "       [-0.2765983 ,  0.63394372, -0.23758605, -0.43204238,  0.30627079],\n",
       "       [ 0.20106388,  1.24186842,  0.07862119, -0.05115225,  0.91602777],\n",
       "       [ 0.83117304,  0.93279564,  0.44038232,  0.82495908,  0.92006741],\n",
       "       [-1.07950702, -0.65545231, -0.95082408, -1.02304252, -1.12202391],\n",
       "       [-1.06532437, -0.61287667, -0.94245165, -1.01153319, -1.12117047],\n",
       "       [ 1.47613976, -0.92430405,  1.81560201,  1.53795808,  0.94712157],\n",
       "       [ 1.47766015, -0.93570442,  1.88620723,  1.53795808,  0.95517239],\n",
       "       [-1.08388304, -0.64677835, -0.92306983, -1.03217376, -1.12094288],\n",
       "       [ 0.22192003,  1.57111092,  0.07872008, -0.1648583 ,  0.91912862],\n",
       "       [-0.8967544 , -0.82029366, -0.61609202, -0.84259761, -1.15510907],\n",
       "       [-1.12542422, -0.82456258, -0.901941  , -1.06609198, -1.37427338],\n",
       "       [-1.06316341, -0.60058768, -0.92306983, -1.02292057, -1.12094288],\n",
       "       [-1.14729062, -0.80594247, -0.95774616, -1.08593985, -1.36371913],\n",
       "       [-1.12901268, -0.77998682, -0.94858264, -1.06577185, -1.16267627],\n",
       "       [-0.33554133,  0.53619203, -0.60465411, -0.36083699,  0.29952859],\n",
       "       [-1.12803281, -0.80054836, -0.95151628, -1.06311937, -1.36113035],\n",
       "       [ 0.81960185,  1.07755624,  0.33895736,  0.78346452,  0.91506054],\n",
       "       [-1.15329573, -0.82253712, -0.96226199, -1.08991857, -1.38445781],\n",
       "       [ 0.3091035 ,  1.86209854,  0.07872008, -0.16610832,  0.91745018],\n",
       "       [ 1.47646698, -0.92958069,  1.89220637,  1.53926908,  0.95124655],\n",
       "       [ 1.48205319, -0.91889054,  1.8106247 ,  1.54439111,  0.95420515],\n",
       "       [ 0.64166501,  1.659477  ,  0.07872008,  0.5739033 ,  0.92271308],\n",
       "       [-0.90748744, -0.83600348, -0.61609202, -0.85090567, -1.12964801],\n",
       "       [ 0.8595591 ,  0.86952875,  0.44038232,  0.8416819 ,  0.92006741],\n",
       "       [-0.55084572,  0.34937185, -0.65660268, -0.50995519,  0.2850485 ],\n",
       "       [ 1.48752298, -0.95157857,  1.91195078,  1.54725701,  0.95665169],\n",
       "       [ 0.72851933,  1.64925365,  0.07872008,  1.44132547,  0.92174585],\n",
       "       [ 1.47449613, -0.93656298,  1.88620723,  1.53631172,  0.94686554],\n",
       "       [ 0.82260446,  1.03486228,  0.33895736,  0.82784022,  0.91506054],\n",
       "       [-0.47193417, -0.77412705, -0.33611034, -0.39461801, -0.79538261],\n",
       "       [ 0.47393125,  1.66350225,  0.07872008,  0.15869861,  0.91719415],\n",
       "       [-0.88883515, -0.70332947, -0.65660268, -0.84294823, -0.83478326],\n",
       "       [ 1.47631769, -0.94434823,  1.89573334,  1.53747027,  0.95124655],\n",
       "       [ 0.38759068,  1.55429778,  0.07855527,  0.1014721 ,  0.91719415],\n",
       "       [ 0.86876718,  0.9035782 ,  0.42017644,  0.85308452,  0.91554416],\n",
       "       [-1.07790256, -0.66767884, -0.92722308, -1.02078639, -1.12139805],\n",
       "       [ 1.47303261, -0.90862314,  1.79071548,  1.53719588,  0.94055005],\n",
       "       [ 0.51874283,  1.70018373,  0.07872008,  0.18447645,  0.92174585],\n",
       "       [ 0.40407867,  1.52991215,  0.07862119,  0.19278451,  0.91958379],\n",
       "       [ 1.47325821, -0.92317507,  1.81560201,  1.53591537,  0.94322418],\n",
       "       [-0.46672917,  0.78927289, -0.60465411, -0.41649336,  0.29952859],\n",
       "       [-1.07269463, -0.66075934, -0.91598293, -1.01590826, -1.12202391],\n",
       "       [ 1.48258637, -0.9336374 ,  1.89220637,  1.54414721,  0.95665169],\n",
       "       [-1.13806809, -0.77898295, -0.95468066, -1.07796716, -1.34926749],\n",
       "       [-0.28406287,  1.05221526, -0.55837505, -0.1661693 ,  0.27844853],\n",
       "       [-1.06504283, -0.66566975, -0.9287723 , -1.01006976, -1.12227994],\n",
       "       [-1.15488912, -0.80677183, -0.95530695, -1.09203751, -1.36371913],\n",
       "       [-1.06031744, -0.63815035, -0.88644872, -1.02110651, -1.12108512],\n",
       "       [ 0.74815081,  1.07021472,  0.16804789,  0.66853894,  0.91912862],\n",
       "       [ 1.48746865, -0.93762693,  1.8106247 ,  1.54801922,  0.95665169],\n",
       "       [ 0.82171978,  0.83564422,  0.44038232,  0.78459259,  0.91528812],\n",
       "       [ 0.71781716,  1.17232107,  0.16804789,  0.61801985,  0.9088873 ],\n",
       "       [ 0.8758513 ,  1.03209074,  0.36229466,  1.16783032,  0.91221573],\n",
       "       [-1.07225741, -0.64536917, -0.94245165, -1.013332  , -1.12236529],\n",
       "       [ 0.69338109,  1.71017242,  0.07872008,  0.76134527,  0.92174585],\n",
       "       [ 0.52591442,  1.73744675,  0.07872008,  0.17482691,  0.91745018],\n",
       "       [-1.129196  , -0.83419617, -0.898447  , -1.06953715, -1.36696222],\n",
       "       [ 1.47362641, -0.94232609,  1.89573334,  1.53539707,  0.94296814],\n",
       "       [-0.60519157,  0.9708194 , -0.59255695, -0.81922834,  0.2729296 ],\n",
       "       [ 1.47309122, -0.91705101,  1.79071548,  1.53643367,  0.94055005]])"
      ]
     },
     "execution_count": 225,
     "metadata": {},
     "output_type": "execute_result"
    }
   ],
   "source": [
    "from sklearn.pipeline import Pipeline\n",
    "from sklearn.preprocessing import StandardScaler\n",
    "\n",
    "num_pipeline = Pipeline([\n",
    "    ('std_scaler', StandardScaler()),\n",
    "])\n",
    "\n",
    "# df_festure_target_dataset_tr = num_pipeline.fit_transform(df_festure_dataset)\n",
    "df_festure_target_dataset_cat_tr = num_pipeline.fit_transform(df_festure_dataset_cat)\n",
    "df_festure_target_dataset_cat_tr"
   ]
  },
  {
   "cell_type": "markdown",
   "metadata": {},
   "source": [
    "# Select and Train a Model"
   ]
  },
  {
   "cell_type": "code",
   "execution_count": 226,
   "metadata": {},
   "outputs": [
    {
     "data": {
      "text/plain": [
       "LinearRegression(copy_X=True, fit_intercept=True, n_jobs=None, normalize=False)"
      ]
     },
     "execution_count": 226,
     "metadata": {},
     "output_type": "execute_result"
    }
   ],
   "source": [
    "from sklearn.linear_model import LinearRegression\n",
    "lin_reg = LinearRegression()\n",
    "lin_reg.fit(df_festure_target_dataset_cat_tr, df_target_dataset_cat)"
   ]
  },
  {
   "cell_type": "code",
   "execution_count": 293,
   "metadata": {},
   "outputs": [
    {
     "data": {
      "text/plain": [
       "array([[ 0.6536458 ,  1.50274889,  0.07862119,  0.65585581,  0.91958379],\n",
       "       [-1.07605229, -0.62440424, -0.95082408, -1.02270715, -1.12094288],\n",
       "       [-1.05075487, -0.63148828, -0.9287723 , -1.00671604, -1.12108512],\n",
       "       [-1.07845546, -0.67032651, -0.92722308, -1.02249373, -1.12139805],\n",
       "       [-0.78923188, -0.35586264, -0.65660268, -0.7844717 , -0.72724937],\n",
       "       [ 1.47595823, -0.90810679,  1.8106247 ,  1.53926908,  0.95224223],\n",
       "       [-1.13234111, -0.84230139, -0.898447  , -1.06970484, -1.36696222],\n",
       "       [-0.15642235,  0.65221188, -0.23758605, -0.25423471,  0.30627079],\n",
       "       [ 0.6463566 ,  1.13958018,  0.16804789,  0.50528942,  0.92032344],\n",
       "       [ 0.88586563,  1.08707811,  0.29597453,  1.16302841,  0.92678116],\n",
       "       [-1.12084232, -0.79652452, -0.95774616, -1.05269238, -1.36113035],\n",
       "       [-1.07065827, -0.6354995 , -0.92722308, -1.01644181, -1.12264977],\n",
       "       [ 0.24210036,  1.58981093,  0.07855527, -0.12499487,  0.92271308],\n",
       "       [ 1.47331963, -0.92069909,  1.79071548,  1.53643367,  0.9390992 ],\n",
       "       [-1.06905795, -0.6620991 , -0.95082408, -1.01391128, -1.12202391],\n",
       "       [-0.46864947, -0.7410663 , -0.33611034, -0.38518189, -0.75862764],\n",
       "       [-1.15260195, -0.80709884, -0.96226199, -1.09033016, -1.38445781],\n",
       "       [-0.12513659,  0.65259575, -0.48991238, -0.11263187,  0.27844853],\n",
       "       [ 1.48986884, -0.95188634,  1.92061986,  1.55112902,  0.95568445],\n",
       "       [-0.44426796, -0.62870124, -0.33611034, -0.38640142, -0.61058363],\n",
       "       [-1.0646288 , -0.55564241, -0.95748246, -1.01798147, -1.12119892],\n",
       "       [-1.13266796, -0.80833025, -0.94858264, -1.06860726, -1.23365433],\n",
       "       [ 0.72606417,  1.01032942,  0.40409084,  0.49274349,  0.91506054],\n",
       "       [-1.07638237, -0.60275852, -0.93595808, -1.02909445, -1.12264977],\n",
       "       [ 0.28597518,  1.65468494,  0.07872008, -0.09939996,  0.91673898],\n",
       "       [-1.12659641, -0.80196118, -0.95151628, -1.06314986, -1.36113035],\n",
       "       [-0.2765983 ,  0.63394372, -0.23758605, -0.43204238,  0.30627079],\n",
       "       [ 0.20106388,  1.24186842,  0.07862119, -0.05115225,  0.91602777],\n",
       "       [ 0.83117304,  0.93279564,  0.44038232,  0.82495908,  0.92006741],\n",
       "       [-1.07950702, -0.65545231, -0.95082408, -1.02304252, -1.12202391],\n",
       "       [-1.06532437, -0.61287667, -0.94245165, -1.01153319, -1.12117047],\n",
       "       [ 1.47613976, -0.92430405,  1.81560201,  1.53795808,  0.94712157],\n",
       "       [ 1.47766015, -0.93570442,  1.88620723,  1.53795808,  0.95517239],\n",
       "       [-1.08388304, -0.64677835, -0.92306983, -1.03217376, -1.12094288],\n",
       "       [ 0.22192003,  1.57111092,  0.07872008, -0.1648583 ,  0.91912862],\n",
       "       [-0.8967544 , -0.82029366, -0.61609202, -0.84259761, -1.15510907],\n",
       "       [-1.12542422, -0.82456258, -0.901941  , -1.06609198, -1.37427338],\n",
       "       [-1.06316341, -0.60058768, -0.92306983, -1.02292057, -1.12094288],\n",
       "       [-1.14729062, -0.80594247, -0.95774616, -1.08593985, -1.36371913],\n",
       "       [-1.12901268, -0.77998682, -0.94858264, -1.06577185, -1.16267627],\n",
       "       [-0.33554133,  0.53619203, -0.60465411, -0.36083699,  0.29952859],\n",
       "       [-1.12803281, -0.80054836, -0.95151628, -1.06311937, -1.36113035],\n",
       "       [ 0.81960185,  1.07755624,  0.33895736,  0.78346452,  0.91506054],\n",
       "       [-1.15329573, -0.82253712, -0.96226199, -1.08991857, -1.38445781],\n",
       "       [ 0.3091035 ,  1.86209854,  0.07872008, -0.16610832,  0.91745018],\n",
       "       [ 1.47646698, -0.92958069,  1.89220637,  1.53926908,  0.95124655],\n",
       "       [ 1.48205319, -0.91889054,  1.8106247 ,  1.54439111,  0.95420515],\n",
       "       [ 0.64166501,  1.659477  ,  0.07872008,  0.5739033 ,  0.92271308],\n",
       "       [-0.90748744, -0.83600348, -0.61609202, -0.85090567, -1.12964801],\n",
       "       [ 0.8595591 ,  0.86952875,  0.44038232,  0.8416819 ,  0.92006741],\n",
       "       [-0.55084572,  0.34937185, -0.65660268, -0.50995519,  0.2850485 ],\n",
       "       [ 1.48752298, -0.95157857,  1.91195078,  1.54725701,  0.95665169],\n",
       "       [ 0.72851933,  1.64925365,  0.07872008,  1.44132547,  0.92174585],\n",
       "       [ 1.47449613, -0.93656298,  1.88620723,  1.53631172,  0.94686554],\n",
       "       [ 0.82260446,  1.03486228,  0.33895736,  0.82784022,  0.91506054],\n",
       "       [-0.47193417, -0.77412705, -0.33611034, -0.39461801, -0.79538261],\n",
       "       [ 0.47393125,  1.66350225,  0.07872008,  0.15869861,  0.91719415],\n",
       "       [-0.88883515, -0.70332947, -0.65660268, -0.84294823, -0.83478326],\n",
       "       [ 1.47631769, -0.94434823,  1.89573334,  1.53747027,  0.95124655],\n",
       "       [ 0.38759068,  1.55429778,  0.07855527,  0.1014721 ,  0.91719415],\n",
       "       [ 0.86876718,  0.9035782 ,  0.42017644,  0.85308452,  0.91554416],\n",
       "       [-1.07790256, -0.66767884, -0.92722308, -1.02078639, -1.12139805],\n",
       "       [ 1.47303261, -0.90862314,  1.79071548,  1.53719588,  0.94055005],\n",
       "       [ 0.51874283,  1.70018373,  0.07872008,  0.18447645,  0.92174585],\n",
       "       [ 0.40407867,  1.52991215,  0.07862119,  0.19278451,  0.91958379],\n",
       "       [ 1.47325821, -0.92317507,  1.81560201,  1.53591537,  0.94322418],\n",
       "       [-0.46672917,  0.78927289, -0.60465411, -0.41649336,  0.29952859],\n",
       "       [-1.07269463, -0.66075934, -0.91598293, -1.01590826, -1.12202391],\n",
       "       [ 1.48258637, -0.9336374 ,  1.89220637,  1.54414721,  0.95665169],\n",
       "       [-1.13806809, -0.77898295, -0.95468066, -1.07796716, -1.34926749],\n",
       "       [-0.28406287,  1.05221526, -0.55837505, -0.1661693 ,  0.27844853],\n",
       "       [-1.06504283, -0.66566975, -0.9287723 , -1.01006976, -1.12227994],\n",
       "       [-1.15488912, -0.80677183, -0.95530695, -1.09203751, -1.36371913],\n",
       "       [-1.06031744, -0.63815035, -0.88644872, -1.02110651, -1.12108512],\n",
       "       [ 0.74815081,  1.07021472,  0.16804789,  0.66853894,  0.91912862],\n",
       "       [ 1.48746865, -0.93762693,  1.8106247 ,  1.54801922,  0.95665169],\n",
       "       [ 0.82171978,  0.83564422,  0.44038232,  0.78459259,  0.91528812],\n",
       "       [ 0.71781716,  1.17232107,  0.16804789,  0.61801985,  0.9088873 ],\n",
       "       [ 0.8758513 ,  1.03209074,  0.36229466,  1.16783032,  0.91221573],\n",
       "       [-1.07225741, -0.64536917, -0.94245165, -1.013332  , -1.12236529],\n",
       "       [ 0.69338109,  1.71017242,  0.07872008,  0.76134527,  0.92174585],\n",
       "       [ 0.52591442,  1.73744675,  0.07872008,  0.17482691,  0.91745018],\n",
       "       [-1.129196  , -0.83419617, -0.898447  , -1.06953715, -1.36696222],\n",
       "       [ 1.47362641, -0.94232609,  1.89573334,  1.53539707,  0.94296814],\n",
       "       [-0.60519157,  0.9708194 , -0.59255695, -0.81922834,  0.2729296 ],\n",
       "       [ 1.47309122, -0.91705101,  1.79071548,  1.53643367,  0.94055005]])"
      ]
     },
     "execution_count": 293,
     "metadata": {},
     "output_type": "execute_result"
    }
   ],
   "source": [
    "df_festure_target_dataset_cat_tr"
   ]
  },
  {
   "cell_type": "code",
   "execution_count": 227,
   "metadata": {},
   "outputs": [
    {
     "name": "stdout",
     "output_type": "stream",
     "text": [
      "predictions:\t [4.40330723 1.75789636 1.78847839 1.7676257  2.24388635]\n",
      "Labels:\t [4.0, 2.0, 2.0, 2.0, 3.0]\n"
     ]
    }
   ],
   "source": [
    "# Let's try it out on a few instance from the ttraining set\n",
    "some_data = df_festure_dataset_cat.iloc[:5]\n",
    "some_labels = df_target_dataset_cat.iloc[:5]\n",
    "some_data_prepared = num_pipeline.transform(some_data)\n",
    "print('predictions:\\t', lin_reg.predict(some_data_prepared))\n",
    "print('Labels:\\t', list(some_labels))"
   ]
  },
  {
   "cell_type": "code",
   "execution_count": 273,
   "metadata": {},
   "outputs": [
    {
     "name": "stdout",
     "output_type": "stream",
     "text": [
      "[5. 1. 1. 5. 4.]\n",
      "[4.67848545 1.48519276 1.44833585 4.91308922 4.41656922]\n",
      "[5. 1. 1. 5. 4.]\n"
     ]
    }
   ],
   "source": [
    "import numpy as np\n",
    "# Evaluate System on the Test Set\n",
    "X_test = test_set.drop('label', axis=1)\n",
    "y_test = test_set['label'].copy()\n",
    "\n",
    "X_test_prepared = num_pipeline.transform(X_test)\n",
    "final_predictions = lin_reg.predict(X_test_prepared)\n",
    "print(y_test[:5].values)\n",
    "print(final_predictions[:5])\n",
    "final_predictions = np.ceil(final_predictions - 0.5)\n",
    "print(final_predictions[:5])"
   ]
  },
  {
   "cell_type": "code",
   "execution_count": 265,
   "metadata": {
    "scrolled": false
   },
   "outputs": [
    {
     "name": "stdout",
     "output_type": "stream",
     "text": [
      "[5. 1. 1. 5. 4. 4. 2. 4. 6. 2. 5. 5. 1. 5. 2. 4. 4. 5. 6. 3. 1. 3.]\n",
      "[5. 1. 1. 5. 4. 4. 2. 3. 6. 1. 5. 5. 1. 5. 2. 4. 4. 5. 6. 3. 1. 3.]\n",
      "accuracy 0.9090909090909091 20 / 22\n"
     ]
    }
   ],
   "source": [
    "num = 0\n",
    "print(final_predictions)\n",
    "print(y_test.values)\n",
    "for i,j in zip(final_predictions, y_test):\n",
    "#     print(i, j)\n",
    "    if abs(i - j) <= 0.1:\n",
    "        num += 1\n",
    "print('accuracy', num/len(y_test), num, '/', len(y_test))\n"
   ]
  },
  {
   "cell_type": "code",
   "execution_count": 172,
   "metadata": {},
   "outputs": [
    {
     "data": {
      "text/html": [
       "<div>\n",
       "<style scoped>\n",
       "    .dataframe tbody tr th:only-of-type {\n",
       "        vertical-align: middle;\n",
       "    }\n",
       "\n",
       "    .dataframe tbody tr th {\n",
       "        vertical-align: top;\n",
       "    }\n",
       "\n",
       "    .dataframe thead th {\n",
       "        text-align: right;\n",
       "    }\n",
       "</style>\n",
       "<table border=\"1\" class=\"dataframe\">\n",
       "  <thead>\n",
       "    <tr style=\"text-align: right;\">\n",
       "      <th></th>\n",
       "      <th>0</th>\n",
       "    </tr>\n",
       "  </thead>\n",
       "  <tbody>\n",
       "    <tr>\n",
       "      <th>0</th>\n",
       "      <td>[[4.0], [6.0], [5.0], [4.0], [2.0], [1.0], [3....</td>\n",
       "    </tr>\n",
       "    <tr>\n",
       "      <th>1</th>\n",
       "      <td>177    4.0\n",
       "289    6.0\n",
       "228    5.0\n",
       "198    4.0\n",
       "60...</td>\n",
       "    </tr>\n",
       "  </tbody>\n",
       "</table>\n",
       "</div>"
      ],
      "text/plain": [
       "                                                   0\n",
       "0  [[4.0], [6.0], [5.0], [4.0], [2.0], [1.0], [3....\n",
       "1  177    4.0\n",
       "289    6.0\n",
       "228    5.0\n",
       "198    4.0\n",
       "60..."
      ]
     },
     "execution_count": 172,
     "metadata": {},
     "output_type": "execute_result"
    }
   ],
   "source": [
    "pd.DataFrame([final_predictions.reshape(-1, 1), y_test])"
   ]
  },
  {
   "cell_type": "code",
   "execution_count": 122,
   "metadata": {},
   "outputs": [
    {
     "data": {
      "text/plain": [
       "array([[5.],\n",
       "       [4.],\n",
       "       [5.],\n",
       "       [3.],\n",
       "       [3.],\n",
       "       [1.],\n",
       "       [4.],\n",
       "       [5.],\n",
       "       [5.],\n",
       "       [1.],\n",
       "       [1.],\n",
       "       [4.],\n",
       "       [1.],\n",
       "       [5.],\n",
       "       [4.],\n",
       "       [1.],\n",
       "       [4.],\n",
       "       [2.],\n",
       "       [5.],\n",
       "       [4.],\n",
       "       [5.],\n",
       "       [4.],\n",
       "       [5.],\n",
       "       [1.],\n",
       "       [4.],\n",
       "       [5.],\n",
       "       [4.],\n",
       "       [2.],\n",
       "       [4.],\n",
       "       [4.],\n",
       "       [4.],\n",
       "       [4.],\n",
       "       [5.],\n",
       "       [1.],\n",
       "       [1.],\n",
       "       [4.],\n",
       "       [2.],\n",
       "       [1.],\n",
       "       [1.],\n",
       "       [3.],\n",
       "       [1.],\n",
       "       [2.],\n",
       "       [4.],\n",
       "       [5.],\n",
       "       [1.],\n",
       "       [4.],\n",
       "       [4.],\n",
       "       [2.],\n",
       "       [5.],\n",
       "       [4.],\n",
       "       [4.],\n",
       "       [4.],\n",
       "       [3.],\n",
       "       [3.],\n",
       "       [4.],\n",
       "       [4.],\n",
       "       [5.],\n",
       "       [4.],\n",
       "       [4.],\n",
       "       [4.],\n",
       "       [4.]])"
      ]
     },
     "execution_count": 122,
     "metadata": {},
     "output_type": "execute_result"
    }
   ],
   "source": [
    "final_predictions.reshape(-1, 1)"
   ]
  },
  {
   "cell_type": "code",
   "execution_count": 123,
   "metadata": {},
   "outputs": [
    {
     "data": {
      "text/plain": [
       "177    4.0\n",
       "289    6.0\n",
       "228    5.0\n",
       "198    4.0\n",
       "60     2.0\n",
       "      ... \n",
       "234    5.0\n",
       "296    6.0\n",
       "281    6.0\n",
       "285    6.0\n",
       "182    4.0\n",
       "Name: label, Length: 61, dtype: float64"
      ]
     },
     "execution_count": 123,
     "metadata": {},
     "output_type": "execute_result"
    }
   ],
   "source": [
    "y_test"
   ]
  },
  {
   "cell_type": "code",
   "execution_count": 125,
   "metadata": {},
   "outputs": [
    {
     "ename": "AttributeError",
     "evalue": "Can only use .cat accessor with a 'category' dtype",
     "output_type": "error",
     "traceback": [
      "\u001b[0;31m---------------------------------------------------------------------------\u001b[0m",
      "\u001b[0;31mAttributeError\u001b[0m                            Traceback (most recent call last)",
      "\u001b[0;32m<ipython-input-125-461017fdb34d>\u001b[0m in \u001b[0;36m<module>\u001b[0;34m\u001b[0m\n\u001b[0;32m----> 1\u001b[0;31m \u001b[0my_test\u001b[0m\u001b[0;34m.\u001b[0m\u001b[0mcat\u001b[0m\u001b[0;34m(\u001b[0m\u001b[0mfinal_predictions\u001b[0m\u001b[0;34m)\u001b[0m\u001b[0;34m\u001b[0m\u001b[0;34m\u001b[0m\u001b[0m\n\u001b[0m",
      "\u001b[0;32m~/ml-test/env/lib/python3.6/site-packages/pandas/core/generic.py\u001b[0m in \u001b[0;36m__getattr__\u001b[0;34m(self, name)\u001b[0m\n\u001b[1;32m   5268\u001b[0m             \u001b[0;32mor\u001b[0m \u001b[0mname\u001b[0m \u001b[0;32min\u001b[0m \u001b[0mself\u001b[0m\u001b[0;34m.\u001b[0m\u001b[0m_accessors\u001b[0m\u001b[0;34m\u001b[0m\u001b[0;34m\u001b[0m\u001b[0m\n\u001b[1;32m   5269\u001b[0m         ):\n\u001b[0;32m-> 5270\u001b[0;31m             \u001b[0;32mreturn\u001b[0m \u001b[0mobject\u001b[0m\u001b[0;34m.\u001b[0m\u001b[0m__getattribute__\u001b[0m\u001b[0;34m(\u001b[0m\u001b[0mself\u001b[0m\u001b[0;34m,\u001b[0m \u001b[0mname\u001b[0m\u001b[0;34m)\u001b[0m\u001b[0;34m\u001b[0m\u001b[0;34m\u001b[0m\u001b[0m\n\u001b[0m\u001b[1;32m   5271\u001b[0m         \u001b[0;32melse\u001b[0m\u001b[0;34m:\u001b[0m\u001b[0;34m\u001b[0m\u001b[0;34m\u001b[0m\u001b[0m\n\u001b[1;32m   5272\u001b[0m             \u001b[0;32mif\u001b[0m \u001b[0mself\u001b[0m\u001b[0;34m.\u001b[0m\u001b[0m_info_axis\u001b[0m\u001b[0;34m.\u001b[0m\u001b[0m_can_hold_identifiers_and_holds_name\u001b[0m\u001b[0;34m(\u001b[0m\u001b[0mname\u001b[0m\u001b[0;34m)\u001b[0m\u001b[0;34m:\u001b[0m\u001b[0;34m\u001b[0m\u001b[0;34m\u001b[0m\u001b[0m\n",
      "\u001b[0;32m~/ml-test/env/lib/python3.6/site-packages/pandas/core/accessor.py\u001b[0m in \u001b[0;36m__get__\u001b[0;34m(self, obj, cls)\u001b[0m\n\u001b[1;32m    185\u001b[0m             \u001b[0;31m# we're accessing the attribute of the class, i.e., Dataset.geo\u001b[0m\u001b[0;34m\u001b[0m\u001b[0;34m\u001b[0m\u001b[0;34m\u001b[0m\u001b[0m\n\u001b[1;32m    186\u001b[0m             \u001b[0;32mreturn\u001b[0m \u001b[0mself\u001b[0m\u001b[0;34m.\u001b[0m\u001b[0m_accessor\u001b[0m\u001b[0;34m\u001b[0m\u001b[0;34m\u001b[0m\u001b[0m\n\u001b[0;32m--> 187\u001b[0;31m         \u001b[0maccessor_obj\u001b[0m \u001b[0;34m=\u001b[0m \u001b[0mself\u001b[0m\u001b[0;34m.\u001b[0m\u001b[0m_accessor\u001b[0m\u001b[0;34m(\u001b[0m\u001b[0mobj\u001b[0m\u001b[0;34m)\u001b[0m\u001b[0;34m\u001b[0m\u001b[0;34m\u001b[0m\u001b[0m\n\u001b[0m\u001b[1;32m    188\u001b[0m         \u001b[0;31m# Replace the property with the accessor object. Inspired by:\u001b[0m\u001b[0;34m\u001b[0m\u001b[0;34m\u001b[0m\u001b[0;34m\u001b[0m\u001b[0m\n\u001b[1;32m    189\u001b[0m         \u001b[0;31m# http://www.pydanny.com/cached-property.html\u001b[0m\u001b[0;34m\u001b[0m\u001b[0;34m\u001b[0m\u001b[0;34m\u001b[0m\u001b[0m\n",
      "\u001b[0;32m~/ml-test/env/lib/python3.6/site-packages/pandas/core/arrays/categorical.py\u001b[0m in \u001b[0;36m__init__\u001b[0;34m(self, data)\u001b[0m\n\u001b[1;32m   2510\u001b[0m \u001b[0;34m\u001b[0m\u001b[0m\n\u001b[1;32m   2511\u001b[0m     \u001b[0;32mdef\u001b[0m \u001b[0m__init__\u001b[0m\u001b[0;34m(\u001b[0m\u001b[0mself\u001b[0m\u001b[0;34m,\u001b[0m \u001b[0mdata\u001b[0m\u001b[0;34m)\u001b[0m\u001b[0;34m:\u001b[0m\u001b[0;34m\u001b[0m\u001b[0;34m\u001b[0m\u001b[0m\n\u001b[0;32m-> 2512\u001b[0;31m         \u001b[0mself\u001b[0m\u001b[0;34m.\u001b[0m\u001b[0m_validate\u001b[0m\u001b[0;34m(\u001b[0m\u001b[0mdata\u001b[0m\u001b[0;34m)\u001b[0m\u001b[0;34m\u001b[0m\u001b[0;34m\u001b[0m\u001b[0m\n\u001b[0m\u001b[1;32m   2513\u001b[0m         \u001b[0mself\u001b[0m\u001b[0;34m.\u001b[0m\u001b[0m_parent\u001b[0m \u001b[0;34m=\u001b[0m \u001b[0mdata\u001b[0m\u001b[0;34m.\u001b[0m\u001b[0mvalues\u001b[0m\u001b[0;34m\u001b[0m\u001b[0;34m\u001b[0m\u001b[0m\n\u001b[1;32m   2514\u001b[0m         \u001b[0mself\u001b[0m\u001b[0;34m.\u001b[0m\u001b[0m_index\u001b[0m \u001b[0;34m=\u001b[0m \u001b[0mdata\u001b[0m\u001b[0;34m.\u001b[0m\u001b[0mindex\u001b[0m\u001b[0;34m\u001b[0m\u001b[0;34m\u001b[0m\u001b[0m\n",
      "\u001b[0;32m~/ml-test/env/lib/python3.6/site-packages/pandas/core/arrays/categorical.py\u001b[0m in \u001b[0;36m_validate\u001b[0;34m(data)\u001b[0m\n\u001b[1;32m   2519\u001b[0m     \u001b[0;32mdef\u001b[0m \u001b[0m_validate\u001b[0m\u001b[0;34m(\u001b[0m\u001b[0mdata\u001b[0m\u001b[0;34m)\u001b[0m\u001b[0;34m:\u001b[0m\u001b[0;34m\u001b[0m\u001b[0;34m\u001b[0m\u001b[0m\n\u001b[1;32m   2520\u001b[0m         \u001b[0;32mif\u001b[0m \u001b[0;32mnot\u001b[0m \u001b[0mis_categorical_dtype\u001b[0m\u001b[0;34m(\u001b[0m\u001b[0mdata\u001b[0m\u001b[0;34m.\u001b[0m\u001b[0mdtype\u001b[0m\u001b[0;34m)\u001b[0m\u001b[0;34m:\u001b[0m\u001b[0;34m\u001b[0m\u001b[0;34m\u001b[0m\u001b[0m\n\u001b[0;32m-> 2521\u001b[0;31m             \u001b[0;32mraise\u001b[0m \u001b[0mAttributeError\u001b[0m\u001b[0;34m(\u001b[0m\u001b[0;34m\"Can only use .cat accessor with a 'category' dtype\"\u001b[0m\u001b[0;34m)\u001b[0m\u001b[0;34m\u001b[0m\u001b[0;34m\u001b[0m\u001b[0m\n\u001b[0m\u001b[1;32m   2522\u001b[0m \u001b[0;34m\u001b[0m\u001b[0m\n\u001b[1;32m   2523\u001b[0m     \u001b[0;32mdef\u001b[0m \u001b[0m_delegate_property_get\u001b[0m\u001b[0;34m(\u001b[0m\u001b[0mself\u001b[0m\u001b[0;34m,\u001b[0m \u001b[0mname\u001b[0m\u001b[0;34m)\u001b[0m\u001b[0;34m:\u001b[0m\u001b[0;34m\u001b[0m\u001b[0;34m\u001b[0m\u001b[0m\n",
      "\u001b[0;31mAttributeError\u001b[0m: Can only use .cat accessor with a 'category' dtype"
     ]
    }
   ],
   "source": []
  },
  {
   "cell_type": "code",
   "execution_count": 274,
   "metadata": {},
   "outputs": [
    {
     "data": {
      "text/plain": [
       "Text(0, 0.5, 'real values')"
      ]
     },
     "execution_count": 274,
     "metadata": {},
     "output_type": "execute_result"
    },
    {
     "data": {
      "image/png": "[encoded data removed]",
      "text/plain": [
       "<Figure size 432x288 with 1 Axes>"
      ]
     },
     "metadata": {
      "needs_background": "light"
     },
     "output_type": "display_data"
    }
   ],
   "source": [
    "import matplotlib.pyplot as plt\n",
    "plt.scatter(final_predictions, y_test, alpha=0.4)\n",
    "plt.plot([0, 6], [0, 6], '-')\n",
    "plt.xlabel('predictions')\n",
    "plt.ylabel('real values')"
   ]
  },
  {
   "cell_type": "code",
   "execution_count": 277,
   "metadata": {},
   "outputs": [
    {
     "data": {
      "text/plain": [
       "Text(0, 0.5, 'real labels')"
      ]
     },
     "execution_count": 277,
     "metadata": {},
     "output_type": "execute_result"
    },
    {
     "data": {
      "image/png": "[encoded data removed]",
      "text/plain": [
       "<Figure size 432x288 with 1 Axes>"
      ]
     },
     "metadata": {
      "needs_background": "light"
     },
     "output_type": "display_data"
    }
   ],
   "source": [
    "import matplotlib.pyplot as plt\n",
    "x = [0, 0, 1, 1, 2, 2, 3, 3, 4, 4, 5, 5, 6, 6]\n",
    "y = [0, 0, 1, 1, 2, 2, 3, 6, 2, 4, 5, 5, 6, 6]\n",
    "\n",
    "\n",
    "plt.scatter(final_predictions, y_test, alpha=0.4)\n",
    "plt.plot([0, 6], [0, 6], '-')\n",
    "plt.xlabel('predictions')\n",
    "plt.ylabel('real labels')"
   ]
  },
  {
   "cell_type": "code",
   "execution_count": 269,
   "metadata": {},
   "outputs": [
    {
     "name": "stdout",
     "output_type": "stream",
     "text": [
      "[0, 0, 1, 1, 2, 2, 3, 3, 4, 4, 5, 5, 6, 6]\n",
      "[0, 0, 1, 1, 2, 2, 3, 6, 2, 4, 5, 5, 6, 6]\n",
      "accuracy 0.8571428571428571 12 / 14\n"
     ]
    }
   ],
   "source": [
    "print(x)\n",
    "print(y)\n",
    "print('accuracy', 12/14, '12', '/', '14')"
   ]
  },
  {
   "cell_type": "code",
   "execution_count": null,
   "metadata": {},
   "outputs": [],
   "source": [
    "import numpy as np\n",
    "index = np.arange(5)\n",
    "values1 = [0.973449,0.957701,0.933861,0.906143,0.227794]\n",
    "plt.bar(index,values1, color='green', label='correlation coefficient')\n",
    "plt.xticks(index,['mean','50%','min','max','std'])\n",
    "# plt.legend('correlation coefficient')\n",
    "plt.legend(loc=4)"
   ]
  },
  {
   "cell_type": "code",
   "execution_count": 278,
   "metadata": {},
   "outputs": [
    {
     "data": {
      "text/plain": [
       "(-1.11637372803214,\n",
       " 1.1007797090739162,\n",
       " -1.1163737124158366,\n",
       " 1.1007797083302826)"
      ]
     },
     "execution_count": 278,
     "metadata": {},
     "output_type": "execute_result"
    },
    {
     "data": {
      "image/png": "[encoded data removed]",
      "text/plain": [
       "<Figure size 432x288 with 1 Axes>"
      ]
     },
     "metadata": {},
     "output_type": "display_data"
    }
   ],
   "source": [
    "import matplotlib.pyplot as plt\n",
    "labels = ['Nokia','Samsung','Apple','Lumia']\n",
    "values = [10,30,45,15]\n",
    "colors = ['yellow','green','red','blue']\n",
    "plt.pie(values,labels=labels,colors=colors)\n",
    "plt.axis('equal')"
   ]
  },
  {
   "cell_type": "code",
   "execution_count": 290,
   "metadata": {},
   "outputs": [
    {
     "data": {
      "text/plain": [
       "Text(0.5, 1.0, 'Statistics + Linear_regression')"
      ]
     },
     "execution_count": 290,
     "metadata": {},
     "output_type": "execute_result"
    },
    {
     "data": {
      "image/png": "[encoded data removed]",
      "text/plain": [
       "<Figure size 432x288 with 1 Axes>"
      ]
     },
     "metadata": {},
     "output_type": "display_data"
    }
   ],
   "source": [
    "import matplotlib.pyplot as plt\n",
    "labels = ['Right','Wrong']\n",
    "values = [90.9,9.1]\n",
    "colors = ['green','red']\n",
    "plt.pie(values,labels=labels,colors=colors, startangle=0)\n",
    "plt.axis('equal')\n",
    "plt.title('Statistics + Linear_regression')"
   ]
  },
  {
   "cell_type": "code",
   "execution_count": 291,
   "metadata": {},
   "outputs": [
    {
     "data": {
      "text/plain": [
       "Text(0.5, 1.0, 'MSE + SVM')"
      ]
     },
     "execution_count": 291,
     "metadata": {},
     "output_type": "execute_result"
    },
    {
     "data": {
      "image/png": "[encoded data removed]",
      "text/plain": [
       "<Figure size 432x288 with 1 Axes>"
      ]
     },
     "metadata": {},
     "output_type": "display_data"
    }
   ],
   "source": [
    "import matplotlib.pyplot as plt\n",
    "labels = ['Right','Wrong']\n",
    "values = [85.7, 14.3]\n",
    "colors = ['green','red']\n",
    "plt.pie(values,labels=labels,colors=colors, startangle=0)\n",
    "plt.axis('equal')\n",
    "plt.title('MSE + SVM')"
   ]
  },
  {
   "cell_type": "code",
   "execution_count": null,
   "metadata": {},
   "outputs": [],
   "source": []
  }
 ],
 "metadata": {
  "kernelspec": {
   "display_name": "Python 3",
   "language": "python",
   "name": "python3"
  },
  "language_info": {
   "codemirror_mode": {
    "name": "ipython",
    "version": 3
   },
   "file_extension": ".py",
   "mimetype": "text/x-python",
   "name": "python",
   "nbconvert_exporter": "python",
   "pygments_lexer": "ipython3",
   "version": "3.7.3"
  }
 },
 "nbformat": 4,
 "nbformat_minor": 4
}
